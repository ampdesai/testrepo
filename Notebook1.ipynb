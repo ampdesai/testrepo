{
    "cells": [
        {
            "cell_type": "markdown",
            "metadata": {
                "collapsed": true
            },
            "source": "# My Jupyter Notebook on IBM Watson Studio"
        },
        {
            "cell_type": "markdown",
            "metadata": {},
            "source": "**Mirajkumar I Desai** <br>Sr. Consultant"
        },
        {
            "cell_type": "markdown",
            "metadata": {},
            "source": "*I am interested in data science becuase it is challenging and exciting stuff to learn. I am passionate to learn more about data science.*"
        },
        {
            "cell_type": "markdown",
            "metadata": {},
            "source": "### This is Cell #4. My code in cell below (cell # 5) will execute addition of numbers"
        },
        {
            "cell_type": "code",
            "execution_count": 1,
            "metadata": {},
            "outputs": [
                {
                    "data": {
                        "text/plain": "110"
                    },
                    "execution_count": 1,
                    "metadata": {},
                    "output_type": "execute_result"
                }
            ],
            "source": "10+100"
        },
        {
            "attachments": {
                "OZMAP%20logo.png": {
                    "image/png": "[encoded data removed]"
                }
            },
            "cell_type": "markdown",
            "metadata": {},
            "source": "<blockquote>This is Cell # 6 with example of block quote, Numbered list, HTML Link, Bullets, Table and Image</blockquote> <br>\n\n#### Example of numbered list\n<ol>\n<li>Fish</li>\n<li>Eggs</li>\n<li>Cheese</li>\n</ol>\n<br>\n\n#### Example of HTML Link\n__[Link to Google](https://www.google.com)__\n\n<br>\n#### Example of Bullets\n- Fruit\n- Orange\n- Mango\n- Banana\n- Pineple\n- Grapes\n\n<br>\n\n#### Example of Table \n|Country|City|Zip|\n|-------|----|---|\n|Australia|Melbourne|3000|\n|Australia|Brisbane|4000|\n|Australia|Adelaid|5000|\n|India|Valsad|396010|\n\n<br>\n\n#### Example of Image\n![OZMAP%20logo.png](attachment:OZMAP%20logo.png)\n\n\n"
        },
        {
            "cell_type": "code",
            "execution_count": null,
            "metadata": {},
            "outputs": [],
            "source": ""
        }
    ],
    "metadata": {
        "kernelspec": {
            "display_name": "Python 3.6",
            "language": "python",
            "name": "python3"
        },
        "language_info": {
            "codemirror_mode": {
                "name": "ipython",
                "version": 3
            },
            "file_extension": ".py",
            "mimetype": "text/x-python",
            "name": "python",
            "nbconvert_exporter": "python",
            "pygments_lexer": "ipython3",
            "version": "3.6.9"
        }
    },
    "nbformat": 4,
    "nbformat_minor": 1
}